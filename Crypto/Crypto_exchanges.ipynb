{
 "cells": [
  {
   "cell_type": "code",
   "execution_count": 20,
   "id": "280312d0-b62f-4420-9304-c41520aa49c1",
   "metadata": {},
   "outputs": [],
   "source": [
    "import requests\n",
    "import json \n",
    "import os\n",
    "import pandas as pd"
   ]
  },
  {
   "cell_type": "code",
   "execution_count": 21,
   "id": "c2e56435-2fa4-470f-943b-791c31b8dad0",
   "metadata": {},
   "outputs": [],
   "source": [
    "#The api for tickers that the user will decide from\n",
    "crypto_url = \"https://api.coingecko.com/api/v3/exchanges/{0}/tickers?coin_ids={1}\"\n",
    "#list of markets places user can purchase crypto and cryptos available\n",
    "top_five = [\"gemini\", \"gdax\", \"kraken\", \"ftx_spot\"]\n",
    "crypto_list = [\"ethereum\", \"bitcoin\", \"dogecoin\", \"matic-network\"]"
   ]
  },
  {
   "cell_type": "code",
   "execution_count": 49,
   "id": "7e13d0f3-82ef-4efb-8e24-c350fc61dccc",
   "metadata": {},
   "outputs": [],
   "source": [
    "# running a loop to find each exchange that trades the coins listed in crypto_list to USD\n",
    "#dataframe is an empty variable with columns\n",
    "def coin(crypto):\n",
    "    dataframe = pd.DataFrame(columns = [\"Timestamp\", \"Market\", \"Base\", \"Last\"])\n",
    "    for exchange in top_five:\n",
    "        platform = requests.get(crypto_url.format(exchange, crypto)).json()\n",
    "        for currency in platform[\"tickers\"]:\n",
    "            if currency[\"target\"] == \"USD\":\n",
    "                #print(json.dumps(currency,indent = 4, sort_keys = True))\n",
    "                time = pd.Timestamp(currency[\"timestamp\"], tz = \"America/Chicago\")\n",
    "                # set the colmumns (keys from the dictionary) to match the of each coin and exchange values \n",
    "                dataframe.loc[len(dataframe.index)] = [time, currency[\"market\"][\"name\"], currency[\"base\"], currency[\"last\"]]\n",
    "    return dataframe"
   ]
  },
  {
   "cell_type": "code",
   "execution_count": 58,
   "id": "dd7d4479-eb40-4a74-978b-8593fdfc88df",
   "metadata": {},
   "outputs": [],
   "source": [
    "# This will print out the dictionary for the Coin-USD \n",
    "ticker = crypto_list[2]\n",
    "dataframe = coin(crypto_list[2])"
   ]
  },
  {
   "cell_type": "code",
   "execution_count": 59,
   "id": "09aa19fd-f9b1-4fcb-a6ef-c0c28266cfc0",
   "metadata": {},
   "outputs": [
    {
     "data": {},
     "metadata": {},
     "output_type": "display_data"
    },
    {
     "data": {
      "application/vnd.holoviews_exec.v0+json": "",
      "text/html": [
       "<div id='2995'>\n",
       "\n",
       "\n",
       "\n",
       "\n",
       "\n",
       "  <div class=\"bk-root\" id=\"b302406e-b0df-43ae-b70f-f81bc8de9b8a\" data-root-id=\"2995\"></div>\n",
       "</div>\n",
       "<script type=\"application/javascript\">(function(root) {\n",
       "  function embed_document(root) {\n",
       "    var docs_json = {\"1d395117-1350-4715-91da-f7a1c6d4b177\":{\"defs\":[{\"extends\":null,\"module\":null,\"name\":\"ReactiveHTML1\",\"overrides\":[],\"properties\":[]},{\"extends\":null,\"module\":null,\"name\":\"FlexBox1\",\"overrides\":[],\"properties\":[{\"default\":\"flex-start\",\"kind\":null,\"name\":\"align_content\"},{\"default\":\"flex-start\",\"kind\":null,\"name\":\"align_items\"},{\"default\":\"row\",\"kind\":null,\"name\":\"flex_direction\"},{\"default\":\"wrap\",\"kind\":null,\"name\":\"flex_wrap\"},{\"default\":\"flex-start\",\"kind\":null,\"name\":\"justify_content\"}]},{\"extends\":null,\"module\":null,\"name\":\"TemplateActions1\",\"overrides\":[],\"properties\":[{\"default\":0,\"kind\":null,\"name\":\"open_modal\"},{\"default\":0,\"kind\":null,\"name\":\"close_modal\"}]},{\"extends\":null,\"module\":null,\"name\":\"MaterialTemplateActions1\",\"overrides\":[],\"properties\":[{\"default\":0,\"kind\":null,\"name\":\"open_modal\"},{\"default\":0,\"kind\":null,\"name\":\"close_modal\"}]}],\"roots\":{\"references\":[{\"attributes\":{\"axis_label\":\"Exchange\",\"coordinates\":null,\"formatter\":{\"id\":\"3040\"},\"group\":null,\"major_label_policy\":{\"id\":\"3041\"},\"ticker\":{\"id\":\"3010\"}},\"id\":\"3009\",\"type\":\"CategoricalAxis\"},{\"attributes\":{},\"id\":\"3017\",\"type\":\"PanTool\"},{\"attributes\":{\"axis\":{\"id\":\"3009\"},\"coordinates\":null,\"grid_line_color\":null,\"group\":null,\"ticker\":null},\"id\":\"3011\",\"type\":\"Grid\"},{\"attributes\":{},\"id\":\"3010\",\"type\":\"CategoricalTicker\"},{\"attributes\":{},\"id\":\"3040\",\"type\":\"CategoricalTickFormatter\"},{\"attributes\":{},\"id\":\"3005\",\"type\":\"CategoricalScale\"},{\"attributes\":{},\"id\":\"3041\",\"type\":\"AllLabels\"},{\"attributes\":{\"end\":0.129979338,\"reset_end\":0.129979338,\"reset_start\":0.128478,\"start\":0.128478,\"tags\":[[[\"Last\",\"Last\",null]]]},\"id\":\"2998\",\"type\":\"Range1d\"},{\"attributes\":{},\"id\":\"3007\",\"type\":\"LinearScale\"},{\"attributes\":{},\"id\":\"3053\",\"type\":\"UnionRenderers\"},{\"attributes\":{\"children\":[{\"id\":\"2996\"},{\"id\":\"3000\"},{\"id\":\"3065\"}],\"margin\":[0,0,0,0],\"name\":\"Row04961\",\"tags\":[\"embedded\"]},\"id\":\"2995\",\"type\":\"Row\"},{\"attributes\":{\"factors\":[\"Gemini\",\"Coinbase Exchange\",\"Kraken\",\"FTX\"],\"tags\":[[[\"Market\",\"Market\",null]]]},\"id\":\"2997\",\"type\":\"FactorRange\"},{\"attributes\":{},\"id\":\"3044\",\"type\":\"AllLabels\"},{\"attributes\":{\"callback\":null,\"renderers\":[{\"id\":\"3035\"}],\"tags\":[\"hv_created\"],\"tooltips\":[[\"Market\",\"@{Market}\"],[\"Last\",\"@{Last}\"]]},\"id\":\"2999\",\"type\":\"HoverTool\"},{\"attributes\":{},\"id\":\"3016\",\"type\":\"SaveTool\"},{\"attributes\":{\"axis\":{\"id\":\"3012\"},\"coordinates\":null,\"dimension\":1,\"grid_line_color\":null,\"group\":null,\"ticker\":null},\"id\":\"3015\",\"type\":\"Grid\"},{\"attributes\":{\"coordinates\":null,\"data_source\":{\"id\":\"3029\"},\"glyph\":{\"id\":\"3032\"},\"group\":null,\"hover_glyph\":null,\"muted_glyph\":{\"id\":\"3034\"},\"nonselection_glyph\":{\"id\":\"3033\"},\"selection_glyph\":{\"id\":\"3037\"},\"view\":{\"id\":\"3036\"}},\"id\":\"3035\",\"type\":\"GlyphRenderer\"},{\"attributes\":{},\"id\":\"3018\",\"type\":\"WheelZoomTool\"},{\"attributes\":{\"overlay\":{\"id\":\"3021\"}},\"id\":\"3019\",\"type\":\"BoxZoomTool\"},{\"attributes\":{\"tools\":[{\"id\":\"2999\"},{\"id\":\"3016\"},{\"id\":\"3017\"},{\"id\":\"3018\"},{\"id\":\"3019\"},{\"id\":\"3020\"}]},\"id\":\"3022\",\"type\":\"Toolbar\"},{\"attributes\":{\"bottom\":{\"value\":0},\"fill_alpha\":{\"value\":1.0},\"fill_color\":{\"value\":\"#30a2da\"},\"hatch_alpha\":{\"value\":1.0},\"hatch_color\":{\"value\":\"#30a2da\"},\"hatch_scale\":{\"value\":12.0},\"hatch_weight\":{\"value\":1.0},\"line_alpha\":{\"value\":1.0},\"line_cap\":{\"value\":\"butt\"},\"line_color\":{\"value\":\"black\"},\"line_dash\":{\"value\":[]},\"line_dash_offset\":{\"value\":0},\"line_join\":{\"value\":\"bevel\"},\"line_width\":{\"value\":1},\"top\":{\"field\":\"Last\"},\"width\":{\"value\":0.8},\"x\":{\"field\":\"Market\"}},\"id\":\"3037\",\"type\":\"VBar\"},{\"attributes\":{\"coordinates\":null,\"group\":null,\"text\":\"Arbitrage for Exchanges dogecoin\",\"text_color\":\"black\",\"text_font_size\":\"12pt\"},\"id\":\"3001\",\"type\":\"Title\"},{\"attributes\":{},\"id\":\"3020\",\"type\":\"ResetTool\"},{\"attributes\":{\"margin\":[5,5,5,5],\"name\":\"HSpacer04965\",\"sizing_mode\":\"stretch_width\"},\"id\":\"2996\",\"type\":\"Spacer\"},{\"attributes\":{\"format\":\"%.6f\"},\"id\":\"3038\",\"type\":\"PrintfTickFormatter\"},{\"attributes\":{},\"id\":\"3013\",\"type\":\"BasicTicker\"},{\"attributes\":{\"margin\":[5,5,5,5],\"name\":\"HSpacer04966\",\"sizing_mode\":\"stretch_width\"},\"id\":\"3065\",\"type\":\"Spacer\"},{\"attributes\":{\"fill_color\":{\"value\":\"#30a2da\"},\"hatch_color\":{\"value\":\"#30a2da\"},\"top\":{\"field\":\"Last\"},\"width\":{\"value\":0.8},\"x\":{\"field\":\"Market\"}},\"id\":\"3032\",\"type\":\"VBar\"},{\"attributes\":{\"fill_alpha\":{\"value\":0.2},\"fill_color\":{\"value\":\"#30a2da\"},\"hatch_alpha\":{\"value\":0.2},\"hatch_color\":{\"value\":\"#30a2da\"},\"line_alpha\":{\"value\":0.2},\"top\":{\"field\":\"Last\"},\"width\":{\"value\":0.8},\"x\":{\"field\":\"Market\"}},\"id\":\"3034\",\"type\":\"VBar\"},{\"attributes\":{\"bottom_units\":\"screen\",\"coordinates\":null,\"fill_alpha\":0.5,\"fill_color\":\"lightgrey\",\"group\":null,\"left_units\":\"screen\",\"level\":\"overlay\",\"line_alpha\":1.0,\"line_color\":\"black\",\"line_dash\":[4,4],\"line_width\":2,\"right_units\":\"screen\",\"syncable\":false,\"top_units\":\"screen\"},\"id\":\"3021\",\"type\":\"BoxAnnotation\"},{\"attributes\":{\"fill_alpha\":{\"value\":0.1},\"fill_color\":{\"value\":\"#30a2da\"},\"hatch_alpha\":{\"value\":0.1},\"hatch_color\":{\"value\":\"#30a2da\"},\"line_alpha\":{\"value\":0.1},\"top\":{\"field\":\"Last\"},\"width\":{\"value\":0.8},\"x\":{\"field\":\"Market\"}},\"id\":\"3033\",\"type\":\"VBar\"},{\"attributes\":{\"axis_label\":\"Coin Price\",\"coordinates\":null,\"formatter\":{\"id\":\"3038\"},\"group\":null,\"major_label_policy\":{\"id\":\"3044\"},\"ticker\":{\"id\":\"3013\"}},\"id\":\"3012\",\"type\":\"LinearAxis\"},{\"attributes\":{},\"id\":\"3030\",\"type\":\"Selection\"},{\"attributes\":{\"data\":{\"Last\":{\"__ndarray__\":\"hhvw+WGEwD8/xty1hHzAP7nP4KWKmMA/VHO5wVCHwD8=\",\"dtype\":\"float64\",\"order\":\"little\",\"shape\":[4]},\"Market\":[\"Gemini\",\"Coinbase Exchange\",\"Kraken\",\"FTX\"]},\"selected\":{\"id\":\"3030\"},\"selection_policy\":{\"id\":\"3053\"}},\"id\":\"3029\",\"type\":\"ColumnDataSource\"},{\"attributes\":{\"source\":{\"id\":\"3029\"}},\"id\":\"3036\",\"type\":\"CDSView\"},{\"attributes\":{\"below\":[{\"id\":\"3009\"}],\"center\":[{\"id\":\"3011\"},{\"id\":\"3015\"}],\"height\":300,\"left\":[{\"id\":\"3012\"}],\"margin\":[5,5,5,5],\"min_border_bottom\":10,\"min_border_left\":10,\"min_border_right\":10,\"min_border_top\":10,\"renderers\":[{\"id\":\"3035\"}],\"sizing_mode\":\"fixed\",\"title\":{\"id\":\"3001\"},\"toolbar\":{\"id\":\"3022\"},\"width\":700,\"x_range\":{\"id\":\"2997\"},\"x_scale\":{\"id\":\"3005\"},\"y_range\":{\"id\":\"2998\"},\"y_scale\":{\"id\":\"3007\"}},\"id\":\"3000\",\"subtype\":\"Figure\",\"type\":\"Plot\"}],\"root_ids\":[\"2995\"]},\"title\":\"Bokeh Application\",\"version\":\"2.4.1\"}};\n",
       "    var render_items = [{\"docid\":\"1d395117-1350-4715-91da-f7a1c6d4b177\",\"root_ids\":[\"2995\"],\"roots\":{\"2995\":\"b302406e-b0df-43ae-b70f-f81bc8de9b8a\"}}];\n",
       "    root.Bokeh.embed.embed_items_notebook(docs_json, render_items);\n",
       "  }\n",
       "  if (root.Bokeh !== undefined && root.Bokeh.Panel !== undefined) {\n",
       "    embed_document(root);\n",
       "  } else {\n",
       "    var attempts = 0;\n",
       "    var timer = setInterval(function(root) {\n",
       "      if (root.Bokeh !== undefined && root.Bokeh.Panel !== undefined) {\n",
       "        clearInterval(timer);\n",
       "        embed_document(root);\n",
       "      } else if (document.readyState == \"complete\") {\n",
       "        attempts++;\n",
       "        if (attempts > 200) {\n",
       "          clearInterval(timer);\n",
       "          console.log(\"Bokeh: ERROR: Unable to run BokehJS code because BokehJS library is missing\");\n",
       "        }\n",
       "      }\n",
       "    }, 25, root)\n",
       "  }\n",
       "})(window);</script>"
      ],
      "text/plain": [
       ":Bars   [Market]   (Last)"
      ]
     },
     "execution_count": 59,
     "metadata": {
      "application/vnd.holoviews_exec.v0+json": {
       "id": "2995"
      }
     },
     "output_type": "execute_result"
    }
   ],
   "source": [
    "minimum = dataframe[\"Last\"].min() - (dataframe[\"Last\"].min() * 0.0025)\n",
    "maximum = dataframe[\"Last\"].max() + (dataframe[\"Last\"].max() * 0.0025)\n",
    "\n",
    "\n",
    "\n",
    "dataframe.hvplot.bar( title = f\"Arbitrage for Exchanges {ticker}\", \n",
    "                   figsize = (20,15),\n",
    "                   x = \"Market\",\n",
    "                   y = \"Last\",\n",
    "                     ylabel = \"Coin Price\",\n",
    "                     xlabel = \"Exchange\",\n",
    "                     ylim = (minimum, maximum)).opts( yformatter = \"%.6f\")"
   ]
  },
  {
   "cell_type": "code",
   "execution_count": null,
   "id": "5eca6f43-9d1f-4efa-a8da-3ae4cecd8a81",
   "metadata": {},
   "outputs": [],
   "source": [
    "print(\"Hi\")"
   ]
  },
  {
   "cell_type": "code",
   "execution_count": null,
   "id": "57ec809e-09cc-4668-853f-cdacd8d3d81c",
   "metadata": {},
   "outputs": [],
   "source": []
  }
 ],
 "metadata": {
  "kernelspec": {
   "display_name": "Python 3 (ipykernel)",
   "language": "python",
   "name": "python3"
  },
  "language_info": {
   "codemirror_mode": {
    "name": "ipython",
    "version": 3
   },
   "file_extension": ".py",
   "mimetype": "text/x-python",
   "name": "python",
   "nbconvert_exporter": "python",
   "pygments_lexer": "ipython3",
   "version": "3.7.11"
  }
 },
 "nbformat": 4,
 "nbformat_minor": 5
}
