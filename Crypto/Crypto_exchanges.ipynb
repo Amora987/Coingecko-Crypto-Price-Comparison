{
 "cells": [
  {
   "cell_type": "code",
   "execution_count": 20,
   "id": "280312d0-b62f-4420-9304-c41520aa49c1",
   "metadata": {},
   "outputs": [],
   "source": [
    "import requests\n",
    "import json \n",
    "import os\n",
    "import pandas as pd"
   ]
  },
  {
   "cell_type": "code",
   "execution_count": 21,
   "id": "c2e56435-2fa4-470f-943b-791c31b8dad0",
   "metadata": {},
   "outputs": [],
   "source": [
    "#The api for tickers that the user will decide from\n",
    "crypto_url = \"https://api.coingecko.com/api/v3/exchanges/{0}/tickers?coin_ids={1}\"\n",
    "#list of markets places user can purchase crypto and cryptos available\n",
    "top_five = [\"gemini\", \"gdax\", \"kraken\", \"ftx_spot\"]\n",
    "crypto_list = [\"ethereum\", \"bitcoin\", \"dogecoin\", \"matic-network\"]"
   ]
  },
  {
   "cell_type": "code",
   "execution_count": 49,
   "id": "7e13d0f3-82ef-4efb-8e24-c350fc61dccc",
   "metadata": {},
   "outputs": [],
   "source": [
    "# running a loop to find each exchange that trades the coins listed in crypto_list to USD\n",
    "#dataframe is an empty variable with columns\n",
    "def coin(crypto):\n",
    "    dataframe = pd.DataFrame(columns = [\"Timestamp\", \"Market\", \"Base\", \"Last\"])\n",
    "    for exchange in top_five:\n",
    "        platform = requests.get(crypto_url.format(exchange, crypto)).json()\n",
    "        for currency in platform[\"tickers\"]:\n",
    "            if currency[\"target\"] == \"USD\":\n",
    "                #print(json.dumps(currency,indent = 4, sort_keys = True))\n",
    "                time = pd.Timestamp(currency[\"timestamp\"], tz = \"America/Chicago\")\n",
    "                # set the colmumns (keys from the dictionary) to match the of each coin and exchange values \n",
    "                dataframe.loc[len(dataframe.index)] = [time, currency[\"market\"][\"name\"], currency[\"base\"], currency[\"last\"]]\n",
    "    return dataframe"
   ]
  },
  {
   "cell_type": "code",
   "execution_count": 50,
   "id": "dd7d4479-eb40-4a74-978b-8593fdfc88df",
   "metadata": {},
   "outputs": [],
   "source": [
    "# This will print out the dictionary for the Coin-USD \n",
    "ticker = crypto_list[3]\n",
    "dataframe = coin(crypto_list[3])"
   ]
  },
  {
   "cell_type": "code",
   "execution_count": 51,
   "id": "09aa19fd-f9b1-4fcb-a6ef-c0c28266cfc0",
   "metadata": {},
   "outputs": [
    {
     "data": {},
     "metadata": {},
     "output_type": "display_data"
    },
    {
     "data": {
      "application/vnd.holoviews_exec.v0+json": "",
      "text/html": [
       "<div id='2527'>\n",
       "\n",
       "\n",
       "\n",
       "\n",
       "\n",
       "  <div class=\"bk-root\" id=\"dc45364e-6e53-42c6-92e9-c96383cc6988\" data-root-id=\"2527\"></div>\n",
       "</div>\n",
       "<script type=\"application/javascript\">(function(root) {\n",
       "  function embed_document(root) {\n",
       "    var docs_json = {\"c66b6698-cf03-4e82-872d-133921193ac8\":{\"defs\":[{\"extends\":null,\"module\":null,\"name\":\"ReactiveHTML1\",\"overrides\":[],\"properties\":[]},{\"extends\":null,\"module\":null,\"name\":\"FlexBox1\",\"overrides\":[],\"properties\":[{\"default\":\"flex-start\",\"kind\":null,\"name\":\"align_content\"},{\"default\":\"flex-start\",\"kind\":null,\"name\":\"align_items\"},{\"default\":\"row\",\"kind\":null,\"name\":\"flex_direction\"},{\"default\":\"wrap\",\"kind\":null,\"name\":\"flex_wrap\"},{\"default\":\"flex-start\",\"kind\":null,\"name\":\"justify_content\"}]},{\"extends\":null,\"module\":null,\"name\":\"TemplateActions1\",\"overrides\":[],\"properties\":[{\"default\":0,\"kind\":null,\"name\":\"open_modal\"},{\"default\":0,\"kind\":null,\"name\":\"close_modal\"}]},{\"extends\":null,\"module\":null,\"name\":\"MaterialTemplateActions1\",\"overrides\":[],\"properties\":[{\"default\":0,\"kind\":null,\"name\":\"open_modal\"},{\"default\":0,\"kind\":null,\"name\":\"close_modal\"}]}],\"roots\":{\"references\":[{\"attributes\":{},\"id\":\"2552\",\"type\":\"ResetTool\"},{\"attributes\":{\"coordinates\":null,\"group\":null,\"text\":\"Arbitrage for Exchanges matic-network\",\"text_color\":\"black\",\"text_font_size\":\"12pt\"},\"id\":\"2533\",\"type\":\"Title\"},{\"attributes\":{\"bottom\":{\"value\":0},\"fill_alpha\":{\"value\":1.0},\"fill_color\":{\"value\":\"#30a2da\"},\"hatch_alpha\":{\"value\":1.0},\"hatch_color\":{\"value\":\"#30a2da\"},\"hatch_scale\":{\"value\":12.0},\"hatch_weight\":{\"value\":1.0},\"line_alpha\":{\"value\":1.0},\"line_cap\":{\"value\":\"butt\"},\"line_color\":{\"value\":\"black\"},\"line_dash\":{\"value\":[]},\"line_dash_offset\":{\"value\":0},\"line_join\":{\"value\":\"bevel\"},\"line_width\":{\"value\":1},\"top\":{\"field\":\"Last\"},\"width\":{\"value\":0.8},\"x\":{\"field\":\"Market\"}},\"id\":\"2569\",\"type\":\"VBar\"},{\"attributes\":{\"bottom_units\":\"screen\",\"coordinates\":null,\"fill_alpha\":0.5,\"fill_color\":\"lightgrey\",\"group\":null,\"left_units\":\"screen\",\"level\":\"overlay\",\"line_alpha\":1.0,\"line_color\":\"black\",\"line_dash\":[4,4],\"line_width\":2,\"right_units\":\"screen\",\"syncable\":false,\"top_units\":\"screen\"},\"id\":\"2553\",\"type\":\"BoxAnnotation\"},{\"attributes\":{},\"id\":\"2537\",\"type\":\"CategoricalScale\"},{\"attributes\":{},\"id\":\"2572\",\"type\":\"CategoricalTickFormatter\"},{\"attributes\":{},\"id\":\"2573\",\"type\":\"AllLabels\"},{\"attributes\":{\"fill_alpha\":{\"value\":0.2},\"fill_color\":{\"value\":\"#30a2da\"},\"hatch_alpha\":{\"value\":0.2},\"hatch_color\":{\"value\":\"#30a2da\"},\"line_alpha\":{\"value\":0.2},\"top\":{\"field\":\"Last\"},\"width\":{\"value\":0.8},\"x\":{\"field\":\"Market\"}},\"id\":\"2566\",\"type\":\"VBar\"},{\"attributes\":{\"margin\":[5,5,5,5],\"name\":\"HSpacer04182\",\"sizing_mode\":\"stretch_width\"},\"id\":\"2597\",\"type\":\"Spacer\"},{\"attributes\":{},\"id\":\"2539\",\"type\":\"LinearScale\"},{\"attributes\":{\"tools\":[{\"id\":\"2531\"},{\"id\":\"2548\"},{\"id\":\"2549\"},{\"id\":\"2550\"},{\"id\":\"2551\"},{\"id\":\"2552\"}]},\"id\":\"2554\",\"type\":\"Toolbar\"},{\"attributes\":{\"end\":1.3955551874999998,\"reset_end\":1.3955551874999998,\"reset_start\":1.38403125,\"start\":1.38403125,\"tags\":[[[\"Last\",\"Last\",null]]]},\"id\":\"2530\",\"type\":\"Range1d\"},{\"attributes\":{\"callback\":null,\"renderers\":[{\"id\":\"2567\"}],\"tags\":[\"hv_created\"],\"tooltips\":[[\"Market\",\"@{Market}\"],[\"Last\",\"@{Last}\"]]},\"id\":\"2531\",\"type\":\"HoverTool\"},{\"attributes\":{},\"id\":\"2576\",\"type\":\"AllLabels\"},{\"attributes\":{\"margin\":[5,5,5,5],\"name\":\"HSpacer04181\",\"sizing_mode\":\"stretch_width\"},\"id\":\"2528\",\"type\":\"Spacer\"},{\"attributes\":{},\"id\":\"2562\",\"type\":\"Selection\"},{\"attributes\":{\"coordinates\":null,\"data_source\":{\"id\":\"2561\"},\"glyph\":{\"id\":\"2564\"},\"group\":null,\"hover_glyph\":null,\"muted_glyph\":{\"id\":\"2566\"},\"nonselection_glyph\":{\"id\":\"2565\"},\"selection_glyph\":{\"id\":\"2569\"},\"view\":{\"id\":\"2568\"}},\"id\":\"2567\",\"type\":\"GlyphRenderer\"},{\"attributes\":{\"format\":\"%.6f\"},\"id\":\"2570\",\"type\":\"PrintfTickFormatter\"},{\"attributes\":{\"factors\":[\"Gemini\",\"Coinbase Exchange\",\"Kraken\",\"FTX\"],\"tags\":[[[\"Market\",\"Market\",null]]]},\"id\":\"2529\",\"type\":\"FactorRange\"},{\"attributes\":{\"below\":[{\"id\":\"2541\"}],\"center\":[{\"id\":\"2543\"},{\"id\":\"2547\"}],\"height\":300,\"left\":[{\"id\":\"2544\"}],\"margin\":[5,5,5,5],\"min_border_bottom\":10,\"min_border_left\":10,\"min_border_right\":10,\"min_border_top\":10,\"renderers\":[{\"id\":\"2567\"}],\"sizing_mode\":\"fixed\",\"title\":{\"id\":\"2533\"},\"toolbar\":{\"id\":\"2554\"},\"width\":700,\"x_range\":{\"id\":\"2529\"},\"x_scale\":{\"id\":\"2537\"},\"y_range\":{\"id\":\"2530\"},\"y_scale\":{\"id\":\"2539\"}},\"id\":\"2532\",\"subtype\":\"Figure\",\"type\":\"Plot\"},{\"attributes\":{\"children\":[{\"id\":\"2528\"},{\"id\":\"2532\"},{\"id\":\"2597\"}],\"margin\":[0,0,0,0],\"name\":\"Row04177\",\"tags\":[\"embedded\"]},\"id\":\"2527\",\"type\":\"Row\"},{\"attributes\":{\"source\":{\"id\":\"2561\"}},\"id\":\"2568\",\"type\":\"CDSView\"},{\"attributes\":{},\"id\":\"2542\",\"type\":\"CategoricalTicker\"},{\"attributes\":{\"axis\":{\"id\":\"2541\"},\"coordinates\":null,\"grid_line_color\":null,\"group\":null,\"ticker\":null},\"id\":\"2543\",\"type\":\"Grid\"},{\"attributes\":{},\"id\":\"2585\",\"type\":\"UnionRenderers\"},{\"attributes\":{},\"id\":\"2549\",\"type\":\"PanTool\"},{\"attributes\":{\"axis_label\":\"Exchange\",\"coordinates\":null,\"formatter\":{\"id\":\"2572\"},\"group\":null,\"major_label_policy\":{\"id\":\"2573\"},\"ticker\":{\"id\":\"2542\"}},\"id\":\"2541\",\"type\":\"CategoricalAxis\"},{\"attributes\":{\"axis\":{\"id\":\"2544\"},\"coordinates\":null,\"dimension\":1,\"grid_line_color\":null,\"group\":null,\"ticker\":null},\"id\":\"2547\",\"type\":\"Grid\"},{\"attributes\":{\"data\":{\"Last\":{\"__ndarray__\":\"8Nx7uOQ49j+oxks3iUH2PzMzMzMzM/Y/Z0Rpb/BF9j8=\",\"dtype\":\"float64\",\"order\":\"little\",\"shape\":[4]},\"Market\":[\"Gemini\",\"Coinbase Exchange\",\"Kraken\",\"FTX\"]},\"selected\":{\"id\":\"2562\"},\"selection_policy\":{\"id\":\"2585\"}},\"id\":\"2561\",\"type\":\"ColumnDataSource\"},{\"attributes\":{\"fill_color\":{\"value\":\"#30a2da\"},\"hatch_color\":{\"value\":\"#30a2da\"},\"top\":{\"field\":\"Last\"},\"width\":{\"value\":0.8},\"x\":{\"field\":\"Market\"}},\"id\":\"2564\",\"type\":\"VBar\"},{\"attributes\":{\"axis_label\":\"Coin Price\",\"coordinates\":null,\"formatter\":{\"id\":\"2570\"},\"group\":null,\"major_label_policy\":{\"id\":\"2576\"},\"ticker\":{\"id\":\"2545\"}},\"id\":\"2544\",\"type\":\"LinearAxis\"},{\"attributes\":{\"fill_alpha\":{\"value\":0.1},\"fill_color\":{\"value\":\"#30a2da\"},\"hatch_alpha\":{\"value\":0.1},\"hatch_color\":{\"value\":\"#30a2da\"},\"line_alpha\":{\"value\":0.1},\"top\":{\"field\":\"Last\"},\"width\":{\"value\":0.8},\"x\":{\"field\":\"Market\"}},\"id\":\"2565\",\"type\":\"VBar\"},{\"attributes\":{},\"id\":\"2545\",\"type\":\"BasicTicker\"},{\"attributes\":{},\"id\":\"2550\",\"type\":\"WheelZoomTool\"},{\"attributes\":{},\"id\":\"2548\",\"type\":\"SaveTool\"},{\"attributes\":{\"overlay\":{\"id\":\"2553\"}},\"id\":\"2551\",\"type\":\"BoxZoomTool\"}],\"root_ids\":[\"2527\"]},\"title\":\"Bokeh Application\",\"version\":\"2.4.1\"}};\n",
       "    var render_items = [{\"docid\":\"c66b6698-cf03-4e82-872d-133921193ac8\",\"root_ids\":[\"2527\"],\"roots\":{\"2527\":\"dc45364e-6e53-42c6-92e9-c96383cc6988\"}}];\n",
       "    root.Bokeh.embed.embed_items_notebook(docs_json, render_items);\n",
       "  }\n",
       "  if (root.Bokeh !== undefined && root.Bokeh.Panel !== undefined) {\n",
       "    embed_document(root);\n",
       "  } else {\n",
       "    var attempts = 0;\n",
       "    var timer = setInterval(function(root) {\n",
       "      if (root.Bokeh !== undefined && root.Bokeh.Panel !== undefined) {\n",
       "        clearInterval(timer);\n",
       "        embed_document(root);\n",
       "      } else if (document.readyState == \"complete\") {\n",
       "        attempts++;\n",
       "        if (attempts > 200) {\n",
       "          clearInterval(timer);\n",
       "          console.log(\"Bokeh: ERROR: Unable to run BokehJS code because BokehJS library is missing\");\n",
       "        }\n",
       "      }\n",
       "    }, 25, root)\n",
       "  }\n",
       "})(window);</script>"
      ],
      "text/plain": [
       ":Bars   [Market]   (Last)"
      ]
     },
     "execution_count": 51,
     "metadata": {
      "application/vnd.holoviews_exec.v0+json": {
       "id": "2527"
      }
     },
     "output_type": "execute_result"
    }
   ],
   "source": [
    "minimum = dataframe[\"Last\"].min() - (dataframe[\"Last\"].min() * 0.0025)\n",
    "maximum = dataframe[\"Last\"].max() + (dataframe[\"Last\"].max() * 0.0025)\n",
    "\n",
    "\n",
    "\n",
    "dataframe.hvplot.bar( title = f\"Arbitrage for Exchanges {ticker}\", \n",
    "                   figsize = (20,15),\n",
    "                   x = \"Market\",\n",
    "                   y = \"Last\",\n",
    "                     ylabel = \"Coin Price\",\n",
    "                     xlabel = \"Exchange\",\n",
    "                     ylim = (minimum, maximum)).opts( yformatter = \"%.6f\")"
   ]
  }
 ],
 "metadata": {
  "kernelspec": {
   "display_name": "Python 3 (ipykernel)",
   "language": "python",
   "name": "python3"
  },
  "language_info": {
   "codemirror_mode": {
    "name": "ipython",
    "version": 3
   },
   "file_extension": ".py",
   "mimetype": "text/x-python",
   "name": "python",
   "nbconvert_exporter": "python",
   "pygments_lexer": "ipython3",
   "version": "3.9.7"
  }
 },
 "nbformat": 4,
 "nbformat_minor": 5
}
