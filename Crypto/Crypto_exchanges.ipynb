{
 "cells": [
  {
   "cell_type": "code",
   "execution_count": 2,
   "id": "280312d0-b62f-4420-9304-c41520aa49c1",
   "metadata": {},
   "outputs": [],
   "source": [
    "import requests\n",
    "import json \n",
    "import os\n",
    "import pandas as pd"
   ]
  },
  {
   "cell_type": "code",
   "execution_count": 1,
   "id": "c2e56435-2fa4-470f-943b-791c31b8dad0",
   "metadata": {},
   "outputs": [],
   "source": [
    "#The api for tickers that the user will decide from\n",
    "crypto_url = \"https://api.coingecko.com/api/v3/exchanges/{0}/tickers?coin_ids={1}\"\n",
    "#list of markets places user can purchase crypto and cryptos available\n",
    "top_five = [\"gemini\", \"gdax\", \"kraken\", \"ftx_spot\"]\n",
    "crypto_list = [\"ethereum\", \"bitcoin\", \"dogecoin\", \"matic-network\"] #matic network doesnt work properly when called through index in the paramater"
   ]
  },
  {
   "cell_type": "code",
   "execution_count": 25,
   "id": "7e13d0f3-82ef-4efb-8e24-c350fc61dccc",
   "metadata": {},
   "outputs": [],
   "source": [
    "# running a loop to find each exchange that trades the coins listed in crypto_list to USD\n",
    "dataframe = pd.DataFrame(columns = [\"Timestamp\", \"Market\", \"Base\", \"Last\"])\n",
    "def coin(crypto):\n",
    "    for exchange in top_five:\n",
    "        platform = requests.get(crypto_url.format(exchange, crypto)).json()\n",
    "        for currency in platform[\"tickers\"]:\n",
    "            if currency[\"target\"] == \"USD\":\n",
    "                #print(json.dumps(currency,indent = 4, sort_keys = True))\n",
    "                #base = platform[\"base\"]\n",
    "                #last = platform[\"last\"]\n",
    "                #market = platform[\"market\"][\"name\"]\n",
    "                #time = str(platform[\"timestamp\"])[0:10]\n",
    "                time = pd.Timestamp(currency[\"timestamp\"], tz = \"America/Chicago\")\n",
    "                print(time)"
   ]
  },
  {
   "cell_type": "code",
   "execution_count": 26,
   "id": "dd7d4479-eb40-4a74-978b-8593fdfc88df",
   "metadata": {},
   "outputs": [
    {
     "name": "stdout",
     "output_type": "stream",
     "text": [
      "2022-02-17 20:04:39-06:00\n",
      "2022-02-17 20:07:21-06:00\n",
      "2022-02-17 20:01:36-06:00\n",
      "2022-02-17 20:04:25-06:00\n"
     ]
    }
   ],
   "source": [
    "coin(\"bitcoin\")\n",
    "#print(dataframe)"
   ]
  }
 ],
 "metadata": {
  "kernelspec": {
   "display_name": "Python 3 (ipykernel)",
   "language": "python",
   "name": "python3"
  },
  "language_info": {
   "codemirror_mode": {
    "name": "ipython",
    "version": 3
   },
   "file_extension": ".py",
   "mimetype": "text/x-python",
   "name": "python",
   "nbconvert_exporter": "python",
   "pygments_lexer": "ipython3",
   "version": "3.8.12"
  }
 },
 "nbformat": 4,
 "nbformat_minor": 5
}
