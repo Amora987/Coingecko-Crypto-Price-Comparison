{
 "cells": [
  {
   "cell_type": "code",
   "execution_count": 1,
   "id": "280312d0-b62f-4420-9304-c41520aa49c1",
   "metadata": {},
   "outputs": [],
   "source": [
    "import requests\n",
    "import json \n",
    "import os\n",
    "import pandas as pd"
   ]
  },
  {
   "cell_type": "code",
   "execution_count": 2,
   "id": "c2e56435-2fa4-470f-943b-791c31b8dad0",
   "metadata": {},
   "outputs": [],
   "source": [
    "#The api for tickers that the user will decide from\n",
    "crypto_url = \"https://api.coingecko.com/api/v3/exchanges/{0}/tickers?coin_ids={1}\"\n",
    "#list of markets places user can purchase crypto and cryptos available\n",
    "top_five = [\"gemini\", \"gdax\", \"kraken\", \"ftx_spot\"]\n",
    "crypto_list = [\"ethereum\", \"bitcoin\", \"dogecoin\", \"matic-network\"] #matic network doesnt work properly when called through index in the paramater"
   ]
  },
  {
   "cell_type": "code",
   "execution_count": 6,
   "id": "7e13d0f3-82ef-4efb-8e24-c350fc61dccc",
   "metadata": {},
   "outputs": [
    {
     "ename": "NameError",
     "evalue": "name 'pd' is not defined",
     "output_type": "error",
     "traceback": [
      "\u001b[0;31m---------------------------------------------------------------------------\u001b[0m",
      "\u001b[0;31mNameError\u001b[0m                                 Traceback (most recent call last)",
      "\u001b[0;32m/var/folders/kj/k8nhrqcx6s33mfsn333wsk800000gn/T/ipykernel_12543/1801113909.py\u001b[0m in \u001b[0;36m<module>\u001b[0;34m\u001b[0m\n\u001b[1;32m      1\u001b[0m \u001b[0;31m# running a loop to find each exchange that trades the coins listed in crypto_list to USD\u001b[0m\u001b[0;34m\u001b[0m\u001b[0;34m\u001b[0m\u001b[0;34m\u001b[0m\u001b[0m\n\u001b[1;32m      2\u001b[0m \u001b[0;31m#dataframe is an empty variable with columns\u001b[0m\u001b[0;34m\u001b[0m\u001b[0;34m\u001b[0m\u001b[0;34m\u001b[0m\u001b[0m\n\u001b[0;32m----> 3\u001b[0;31m \u001b[0mdataframe\u001b[0m \u001b[0;34m=\u001b[0m \u001b[0mpd\u001b[0m\u001b[0;34m.\u001b[0m\u001b[0mDataFrame\u001b[0m\u001b[0;34m(\u001b[0m\u001b[0mcolumns\u001b[0m \u001b[0;34m=\u001b[0m \u001b[0;34m[\u001b[0m\u001b[0;34m\"Timestamp\"\u001b[0m\u001b[0;34m,\u001b[0m \u001b[0;34m\"Market\"\u001b[0m\u001b[0;34m,\u001b[0m \u001b[0;34m\"Base\"\u001b[0m\u001b[0;34m,\u001b[0m \u001b[0;34m\"Last\"\u001b[0m\u001b[0;34m]\u001b[0m\u001b[0;34m)\u001b[0m\u001b[0;34m\u001b[0m\u001b[0;34m\u001b[0m\u001b[0m\n\u001b[0m\u001b[1;32m      4\u001b[0m \u001b[0;32mdef\u001b[0m \u001b[0mcoin\u001b[0m\u001b[0;34m(\u001b[0m\u001b[0mcrypto\u001b[0m\u001b[0;34m)\u001b[0m\u001b[0;34m:\u001b[0m\u001b[0;34m\u001b[0m\u001b[0;34m\u001b[0m\u001b[0m\n\u001b[1;32m      5\u001b[0m     \u001b[0;32mfor\u001b[0m \u001b[0mexchange\u001b[0m \u001b[0;32min\u001b[0m \u001b[0mtop_five\u001b[0m\u001b[0;34m:\u001b[0m\u001b[0;34m\u001b[0m\u001b[0;34m\u001b[0m\u001b[0m\n",
      "\u001b[0;31mNameError\u001b[0m: name 'pd' is not defined"
     ]
    }
   ],
   "source": [
    "# running a loop to find each exchange that trades the coins listed in crypto_list to USD\n",
    "#dataframe is an empty variable with columns\n",
    "dataframe = pd.DataFrame(columns = [\"Timestamp\", \"Market\", \"Base\", \"Last\"])\n",
    "def coin(crypto):\n",
    "    for exchange in top_five:\n",
    "        platform = requests.get(crypto_url.format(exchange, crypto)).json()\n",
    "        for currency in platform[\"tickers\"]:\n",
    "            if currency[\"target\"] == \"USD\":\n",
    "                print(json.dumps(currency,indent = 4, sort_keys = True))\n",
    "                time = pd.Timestamp(currency[\"timestamp\"], tz = \"America/Chicago\")\n",
    "                # set the colmumns (keys from the dictionary) to match the of each coin and exchange values \n",
    "                dataframe.loc[len(dataframe.index)] = [time, currency[\"market\"][\"name\"], currency[\"base\"], currency[\"last\"]]\n",
    "                \n",
    "# This will print out the dictionary for the Coin-USD \n",
    "print(coin(crypto_list[1]))"
   ]
  },
  {
   "cell_type": "code",
   "execution_count": null,
   "id": "dd7d4479-eb40-4a74-978b-8593fdfc88df",
   "metadata": {},
   "outputs": [],
   "source": []
  },
  {
   "cell_type": "code",
   "execution_count": null,
   "id": "64fdc627-4d12-4f0f-b08e-a3d45ab8700e",
   "metadata": {},
   "outputs": [],
   "source": []
  }
 ],
 "metadata": {
  "kernelspec": {
   "display_name": "Python 3 (ipykernel)",
   "language": "python",
   "name": "python3"
  },
  "language_info": {
   "codemirror_mode": {
    "name": "ipython",
    "version": 3
   },
   "file_extension": ".py",
   "mimetype": "text/x-python",
   "name": "python",
   "nbconvert_exporter": "python",
   "pygments_lexer": "ipython3",
   "version": "3.7.11"
  }
 },
 "nbformat": 4,
 "nbformat_minor": 5
}
