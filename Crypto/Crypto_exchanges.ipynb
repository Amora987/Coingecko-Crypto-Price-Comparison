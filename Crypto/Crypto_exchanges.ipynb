{
 "cells": [
  {
   "cell_type": "code",
<<<<<<< HEAD
   "execution_count": 1,
=======
   "execution_count": 13,
>>>>>>> 6bfbcb9e3f86d4edbe73df08791632c9203bfe52
   "id": "280312d0-b62f-4420-9304-c41520aa49c1",
   "metadata": {},
   "outputs": [],
   "source": [
    "import requests\n",
    "import json \n",
    "import os\n",
    "import pandas as pd"
   ]
  },
  {
   "cell_type": "code",
<<<<<<< HEAD
   "execution_count": 2,
=======
   "execution_count": 69,
>>>>>>> 6bfbcb9e3f86d4edbe73df08791632c9203bfe52
   "id": "c2e56435-2fa4-470f-943b-791c31b8dad0",
   "metadata": {},
   "outputs": [],
   "source": [
    "#The api for tickers that the user will decide from\n",
    "crypto_url = \"https://api.coingecko.com/api/v3/exchanges/{0}/tickers?coin_ids={1}\"\n",
    "#list of markets places user can purchase crypto and cryptos available\n",
    "top_five = [\"gemini\", \"gdax\", \"kraken\", \"ftx_spot\"]\n",
    "crypto_list = [\"ethereum\", \"bitcoin\", \"dogecoin\", \"matic-network\"] #matic network doesnt work properly when called through index in the paramater"
   ]
  },
  {
   "cell_type": "code",
<<<<<<< HEAD
   "execution_count": 6,
=======
   "execution_count": 71,
>>>>>>> 6bfbcb9e3f86d4edbe73df08791632c9203bfe52
   "id": "7e13d0f3-82ef-4efb-8e24-c350fc61dccc",
   "metadata": {},
   "outputs": [
    {
     "ename": "NameError",
     "evalue": "name 'pd' is not defined",
     "output_type": "error",
     "traceback": [
      "\u001b[0;31m---------------------------------------------------------------------------\u001b[0m",
      "\u001b[0;31mNameError\u001b[0m                                 Traceback (most recent call last)",
      "\u001b[0;32m/var/folders/kj/k8nhrqcx6s33mfsn333wsk800000gn/T/ipykernel_12543/1801113909.py\u001b[0m in \u001b[0;36m<module>\u001b[0;34m\u001b[0m\n\u001b[1;32m      1\u001b[0m \u001b[0;31m# running a loop to find each exchange that trades the coins listed in crypto_list to USD\u001b[0m\u001b[0;34m\u001b[0m\u001b[0;34m\u001b[0m\u001b[0;34m\u001b[0m\u001b[0m\n\u001b[1;32m      2\u001b[0m \u001b[0;31m#dataframe is an empty variable with columns\u001b[0m\u001b[0;34m\u001b[0m\u001b[0;34m\u001b[0m\u001b[0;34m\u001b[0m\u001b[0m\n\u001b[0;32m----> 3\u001b[0;31m \u001b[0mdataframe\u001b[0m \u001b[0;34m=\u001b[0m \u001b[0mpd\u001b[0m\u001b[0;34m.\u001b[0m\u001b[0mDataFrame\u001b[0m\u001b[0;34m(\u001b[0m\u001b[0mcolumns\u001b[0m \u001b[0;34m=\u001b[0m \u001b[0;34m[\u001b[0m\u001b[0;34m\"Timestamp\"\u001b[0m\u001b[0;34m,\u001b[0m \u001b[0;34m\"Market\"\u001b[0m\u001b[0;34m,\u001b[0m \u001b[0;34m\"Base\"\u001b[0m\u001b[0;34m,\u001b[0m \u001b[0;34m\"Last\"\u001b[0m\u001b[0;34m]\u001b[0m\u001b[0;34m)\u001b[0m\u001b[0;34m\u001b[0m\u001b[0;34m\u001b[0m\u001b[0m\n\u001b[0m\u001b[1;32m      4\u001b[0m \u001b[0;32mdef\u001b[0m \u001b[0mcoin\u001b[0m\u001b[0;34m(\u001b[0m\u001b[0mcrypto\u001b[0m\u001b[0;34m)\u001b[0m\u001b[0;34m:\u001b[0m\u001b[0;34m\u001b[0m\u001b[0;34m\u001b[0m\u001b[0m\n\u001b[1;32m      5\u001b[0m     \u001b[0;32mfor\u001b[0m \u001b[0mexchange\u001b[0m \u001b[0;32min\u001b[0m \u001b[0mtop_five\u001b[0m\u001b[0;34m:\u001b[0m\u001b[0;34m\u001b[0m\u001b[0;34m\u001b[0m\u001b[0m\n",
      "\u001b[0;31mNameError\u001b[0m: name 'pd' is not defined"
     ]
    }
   ],
   "source": [
    "# running a loop to find each exchange that trades the coins listed in crypto_list to USD\n",
    "#dataframe is an empty variable with columns\n",
    "dataframe = pd.DataFrame(columns = [\"Timestamp\", \"Market\", \"Base\", \"Last\"])\n",
    "def coin(crypto):\n",
    "    for exchange in top_five:\n",
    "        platform = requests.get(crypto_url.format(exchange, crypto)).json()\n",
    "        for currency in platform[\"tickers\"]:\n",
    "            if currency[\"target\"] == \"USD\":\n",
    "                print(json.dumps(currency,indent = 4, sort_keys = True))\n",
    "                time = pd.Timestamp(currency[\"timestamp\"], tz = \"America/Chicago\")\n",
    "                # set the colmumns (keys from the dictionary) to match the of each coin and exchange values \n",
<<<<<<< HEAD
    "                dataframe.loc[len(dataframe.index)] = [time, currency[\"market\"][\"name\"], currency[\"base\"], currency[\"last\"]]\n",
    "                \n",
    "# This will print out the dictionary for the Coin-USD \n",
    "print(coin(crypto_list[1]))"
=======
    "                dataframe.loc[len(dataframe.index)] = [time, currency[\"market\"][\"name\"], currency[\"base\"], currency[\"last\"]]"
>>>>>>> 6bfbcb9e3f86d4edbe73df08791632c9203bfe52
   ]
  },
  {
   "cell_type": "code",
<<<<<<< HEAD
   "execution_count": null,
   "id": "dd7d4479-eb40-4a74-978b-8593fdfc88df",
   "metadata": {},
   "outputs": [],
   "source": []
=======
   "execution_count": 72,
   "id": "dd7d4479-eb40-4a74-978b-8593fdfc88df",
   "metadata": {},
   "outputs": [
    {
     "name": "stdout",
     "output_type": "stream",
     "text": [
      "{\n",
      "    \"base\": \"BTC\",\n",
      "    \"bid_ask_spread_percentage\": 0.019103,\n",
      "    \"coin_id\": \"bitcoin\",\n",
      "    \"converted_last\": {\n",
      "        \"btc\": 0.99921283,\n",
      "        \"eth\": 14.016843,\n",
      "        \"usd\": 40869\n",
      "    },\n",
      "    \"converted_volume\": {\n",
      "        \"btc\": 1636,\n",
      "        \"eth\": 22952,\n",
      "        \"usd\": 66919977\n",
      "    },\n",
      "    \"is_anomaly\": false,\n",
      "    \"is_stale\": false,\n",
      "    \"last\": 40868.97,\n",
      "    \"last_fetch_at\": \"2022-02-18T02:04:39+00:00\",\n",
      "    \"last_traded_at\": \"2022-02-18T02:04:39+00:00\",\n",
      "    \"market\": {\n",
      "        \"has_trading_incentive\": false,\n",
      "        \"identifier\": \"gemini\",\n",
      "        \"name\": \"Gemini\"\n",
      "    },\n",
      "    \"target\": \"USD\",\n",
      "    \"timestamp\": \"2022-02-18T02:04:39+00:00\",\n",
      "    \"token_info_url\": null,\n",
      "    \"trade_url\": null,\n",
      "    \"trust_score\": \"green\",\n",
      "    \"volume\": 1637.42753606\n",
      "}\n",
      "{\n",
      "    \"base\": \"BTC\",\n",
      "    \"bid_ask_spread_percentage\": 0.019095,\n",
      "    \"coin_id\": \"bitcoin\",\n",
      "    \"converted_last\": {\n",
      "        \"btc\": 0.99973113,\n",
      "        \"eth\": 14.019834,\n",
      "        \"usd\": 40899\n",
      "    },\n",
      "    \"converted_volume\": {\n",
      "        \"btc\": 19324,\n",
      "        \"eth\": 270997,\n",
      "        \"usd\": 790567756\n",
      "    },\n",
      "    \"is_anomaly\": false,\n",
      "    \"is_stale\": false,\n",
      "    \"last\": 40899.39,\n",
      "    \"last_fetch_at\": \"2022-02-18T02:07:39+00:00\",\n",
      "    \"last_traded_at\": \"2022-02-18T02:07:21+00:00\",\n",
      "    \"market\": {\n",
      "        \"has_trading_incentive\": false,\n",
      "        \"identifier\": \"gdax\",\n",
      "        \"name\": \"Coinbase Exchange\"\n",
      "    },\n",
      "    \"target\": \"USD\",\n",
      "    \"timestamp\": \"2022-02-18T02:07:21+00:00\",\n",
      "    \"token_info_url\": null,\n",
      "    \"trade_url\": \"https://pro.coinbase.com/trade/BTC-USD\",\n",
      "    \"trust_score\": \"green\",\n",
      "    \"volume\": 19329.57326517\n",
      "}\n",
      "{\n",
      "    \"base\": \"BTC\",\n",
      "    \"bid_ask_spread_percentage\": 0.010245,\n",
      "    \"coin_id\": \"bitcoin\",\n",
      "    \"converted_last\": {\n",
      "        \"btc\": 0.99772122,\n",
      "        \"eth\": 13.995855,\n",
      "        \"usd\": 40808\n",
      "    },\n",
      "    \"converted_volume\": {\n",
      "        \"btc\": 3863,\n",
      "        \"eth\": 54195,\n",
      "        \"usd\": 158015919\n",
      "    },\n",
      "    \"is_anomaly\": false,\n",
      "    \"is_stale\": false,\n",
      "    \"last\": 40807.7,\n",
      "    \"last_fetch_at\": \"2022-02-18T02:01:36+00:00\",\n",
      "    \"last_traded_at\": \"2022-02-18T02:01:36+00:00\",\n",
      "    \"market\": {\n",
      "        \"has_trading_incentive\": false,\n",
      "        \"identifier\": \"kraken\",\n",
      "        \"name\": \"Kraken\"\n",
      "    },\n",
      "    \"target\": \"USD\",\n",
      "    \"timestamp\": \"2022-02-18T02:01:36+00:00\",\n",
      "    \"token_info_url\": null,\n",
      "    \"trade_url\": \"https://trade.kraken.com/markets/kraken/btc/usd\",\n",
      "    \"trust_score\": \"green\",\n",
      "    \"volume\": 3872.20840055\n",
      "}\n",
      "{\n",
      "    \"base\": \"BTC\",\n",
      "    \"bid_ask_spread_percentage\": 0.012449,\n",
      "    \"coin_id\": \"bitcoin\",\n",
      "    \"converted_last\": {\n",
      "        \"btc\": 0.99848009,\n",
      "        \"eth\": 14.006564,\n",
      "        \"usd\": 40839\n",
      "    },\n",
      "    \"converted_volume\": {\n",
      "        \"btc\": 16708,\n",
      "        \"eth\": 234382,\n",
      "        \"usd\": 683387674\n",
      "    },\n",
      "    \"is_anomaly\": false,\n",
      "    \"is_stale\": false,\n",
      "    \"last\": 40839.0,\n",
      "    \"last_fetch_at\": \"2022-02-18T02:04:25+00:00\",\n",
      "    \"last_traded_at\": \"2022-02-18T02:04:25+00:00\",\n",
      "    \"market\": {\n",
      "        \"has_trading_incentive\": false,\n",
      "        \"identifier\": \"ftx_spot\",\n",
      "        \"name\": \"FTX\"\n",
      "    },\n",
      "    \"target\": \"USD\",\n",
      "    \"timestamp\": \"2022-02-18T02:04:25+00:00\",\n",
      "    \"token_info_url\": null,\n",
      "    \"trade_url\": \"https://ftx.com/trade/BTC/USD\",\n",
      "    \"trust_score\": \"green\",\n",
      "    \"volume\": 16733.70244595852\n",
      "}\n",
      "None\n"
     ]
    }
   ],
   "source": [
    "# This will print out the dictionary for the Coin-USD \n",
    "print(coin(crypto_list[1]))"
   ]
>>>>>>> 6bfbcb9e3f86d4edbe73df08791632c9203bfe52
  },
  {
   "cell_type": "code",
   "execution_count": 73,
   "id": "64fdc627-4d12-4f0f-b08e-a3d45ab8700e",
   "metadata": {},
   "outputs": [
    {
     "name": "stdout",
     "output_type": "stream",
     "text": [
      "                  Timestamp             Market Base      Last\n",
      "0 2022-02-17 20:04:39-06:00             Gemini  BTC  40868.97\n",
      "1 2022-02-17 20:07:21-06:00  Coinbase Exchange  BTC  40899.39\n",
      "2 2022-02-17 20:01:36-06:00             Kraken  BTC  40807.70\n",
      "3 2022-02-17 20:04:25-06:00                FTX  BTC  40839.00\n"
     ]
    }
   ],
   "source": [
    "# printing the\n",
    "print(dataframe)"
   ]
  }
 ],
 "metadata": {
  "kernelspec": {
   "display_name": "Python 3 (ipykernel)",
   "language": "python",
   "name": "python3"
  },
  "language_info": {
   "codemirror_mode": {
    "name": "ipython",
    "version": 3
   },
   "file_extension": ".py",
   "mimetype": "text/x-python",
   "name": "python",
   "nbconvert_exporter": "python",
   "pygments_lexer": "ipython3",
   "version": "3.7.11"
  }
 },
 "nbformat": 4,
 "nbformat_minor": 5
}
