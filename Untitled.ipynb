{
 "cells": [
  {
   "cell_type": "markdown",
   "id": "bbc3f02e",
   "metadata": {},
   "source": [
    "# Main (Angel)"
   ]
  },
  {
   "cell_type": "code",
   "execution_count": 33,
   "id": "e9707308",
   "metadata": {},
   "outputs": [],
   "source": [
    "import sys\n",
    "import requests\n",
    "import json \n",
    "import os\n",
    "import pandas as pd\n",
    "import fire\n",
    "import questionary\n",
    "from pathlib import Path"
   ]
  },
  {
   "cell_type": "code",
   "execution_count": 34,
   "id": "efbb9567",
   "metadata": {},
   "outputs": [],
   "source": [
    "#The api for tickers that the user will decide from\n",
    "crypto_url = \"https://api.coingecko.com/api/v3/exchanges/{0}/tickers?coin_ids={1}\"\n",
    "#list of markets places user can purchase crypto and cryptos available\n",
    "top_five = [\"gemini\", \"gdax\", \"kraken\", \"ftx_spot\"]\n",
    "crypto_list = [\"ethereum\", \"bitcoin\", \"dogecoin\", \"matic-network\"] #matic network doesnt work properly when called through index in the paramater"
   ]
  },
  {
   "cell_type": "code",
   "execution_count": 35,
   "id": "307e50cb",
   "metadata": {},
   "outputs": [],
   "source": [
    "# running a loop to find each exchange that trades the coins listed in crypto_list to USD\n",
    "#dataframe is an empty variable with columns\n",
    "dataframe = pd.DataFrame(columns = [\"Timestamp\", \"Market\", \"Base\", \"Last\"])\n",
    "def coin(crypto):\n",
    "    for exchange in top_five:\n",
    "        platform = requests.get(crypto_url.format(exchange, crypto)).json()\n",
    "        for currency in platform[\"tickers\"]:\n",
    "            if currency[\"target\"] == \"USD\":\n",
    "                print(json.dumps(currency,indent = 4, sort_keys = True))\n",
    "                time = pd.Timestamp(currency[\"timestamp\"], tz = \"America/Chicago\")\n",
    "                # set the colmumns (keys from the dictionary) to match the of each coin and exchange values \n",
    "                dataframe.loc[len(dataframe.index)] = [time, currency[\"market\"][\"name\"], currency[\"base\"], currency[\"last\"]]"
   ]
  },
  {
   "cell_type": "code",
   "execution_count": 36,
   "id": "a26c518e",
   "metadata": {},
   "outputs": [
    {
     "name": "stdout",
     "output_type": "stream",
     "text": [
      "{\n",
      "    \"base\": \"BTC\",\n",
      "    \"bid_ask_spread_percentage\": 0.012185,\n",
      "    \"coin_id\": \"bitcoin\",\n",
      "    \"converted_last\": {\n",
      "        \"btc\": 0.99856266,\n",
      "        \"eth\": 14.367525,\n",
      "        \"usd\": 37001\n",
      "    },\n",
      "    \"converted_volume\": {\n",
      "        \"btc\": 1716,\n",
      "        \"eth\": 24692,\n",
      "        \"usd\": 63589408\n",
      "    },\n",
      "    \"is_anomaly\": false,\n",
      "    \"is_stale\": false,\n",
      "    \"last\": 37000.62,\n",
      "    \"last_fetch_at\": \"2022-02-21T23:59:54+00:00\",\n",
      "    \"last_traded_at\": \"2022-02-21T23:59:54+00:00\",\n",
      "    \"market\": {\n",
      "        \"has_trading_incentive\": false,\n",
      "        \"identifier\": \"gemini\",\n",
      "        \"name\": \"Gemini\"\n",
      "    },\n",
      "    \"target\": \"USD\",\n",
      "    \"timestamp\": \"2022-02-21T23:59:54+00:00\",\n",
      "    \"token_info_url\": null,\n",
      "    \"trade_url\": null,\n",
      "    \"trust_score\": \"green\",\n",
      "    \"volume\": 1718.60386316\n",
      "}\n",
      "{\n",
      "    \"base\": \"BTC\",\n",
      "    \"bid_ask_spread_percentage\": 0.01314,\n",
      "    \"coin_id\": \"bitcoin\",\n",
      "    \"converted_last\": {\n",
      "        \"btc\": 0.99830763,\n",
      "        \"eth\": 14.372703,\n",
      "        \"usd\": 37069\n",
      "    },\n",
      "    \"converted_volume\": {\n",
      "        \"btc\": 20141,\n",
      "        \"eth\": 289975,\n",
      "        \"usd\": 747882888\n",
      "    },\n",
      "    \"is_anomaly\": false,\n",
      "    \"is_stale\": false,\n",
      "    \"last\": 37069.03,\n",
      "    \"last_fetch_at\": \"2022-02-22T00:04:40+00:00\",\n",
      "    \"last_traded_at\": \"2022-02-22T00:03:14+00:00\",\n",
      "    \"market\": {\n",
      "        \"has_trading_incentive\": false,\n",
      "        \"identifier\": \"gdax\",\n",
      "        \"name\": \"Coinbase Exchange\"\n",
      "    },\n",
      "    \"target\": \"USD\",\n",
      "    \"timestamp\": \"2022-02-22T00:03:14+00:00\",\n",
      "    \"token_info_url\": null,\n",
      "    \"trade_url\": \"https://pro.coinbase.com/trade/BTC-USD\",\n",
      "    \"trust_score\": \"green\",\n",
      "    \"volume\": 20175.41026827\n",
      "}\n",
      "{\n",
      "    \"base\": \"BTC\",\n",
      "    \"bid_ask_spread_percentage\": 0.01027,\n",
      "    \"coin_id\": \"bitcoin\",\n",
      "    \"converted_last\": {\n",
      "        \"btc\": 0.9984174,\n",
      "        \"eth\": 14.374284,\n",
      "        \"usd\": 37049\n",
      "    },\n",
      "    \"converted_volume\": {\n",
      "        \"btc\": 4641,\n",
      "        \"eth\": 66820,\n",
      "        \"usd\": 172228283\n",
      "    },\n",
      "    \"is_anomaly\": false,\n",
      "    \"is_stale\": false,\n",
      "    \"last\": 37049.4,\n",
      "    \"last_fetch_at\": \"2022-02-22T00:02:03+00:00\",\n",
      "    \"last_traded_at\": \"2022-02-22T00:02:03+00:00\",\n",
      "    \"market\": {\n",
      "        \"has_trading_incentive\": false,\n",
      "        \"identifier\": \"kraken\",\n",
      "        \"name\": \"Kraken\"\n",
      "    },\n",
      "    \"target\": \"USD\",\n",
      "    \"timestamp\": \"2022-02-22T00:02:03+00:00\",\n",
      "    \"token_info_url\": null,\n",
      "    \"trade_url\": \"https://trade.kraken.com/markets/kraken/btc/usd\",\n",
      "    \"trust_score\": \"green\",\n",
      "    \"volume\": 4648.61193986\n",
      "}\n",
      "{\n",
      "    \"base\": \"BTC\",\n",
      "    \"bid_ask_spread_percentage\": 0.012699,\n",
      "    \"coin_id\": \"bitcoin\",\n",
      "    \"converted_last\": {\n",
      "        \"btc\": 1.000118,\n",
      "        \"eth\": 14.391261,\n",
      "        \"usd\": 37047\n",
      "    },\n",
      "    \"converted_volume\": {\n",
      "        \"btc\": 19873,\n",
      "        \"eth\": 285968,\n",
      "        \"usd\": 736157987\n",
      "    },\n",
      "    \"is_anomaly\": false,\n",
      "    \"is_stale\": false,\n",
      "    \"last\": 37047.0,\n",
      "    \"last_fetch_at\": \"2022-02-21T23:58:51+00:00\",\n",
      "    \"last_traded_at\": \"2022-02-21T23:58:51+00:00\",\n",
      "    \"market\": {\n",
      "        \"has_trading_incentive\": false,\n",
      "        \"identifier\": \"ftx_spot\",\n",
      "        \"name\": \"FTX\"\n",
      "    },\n",
      "    \"target\": \"USD\",\n",
      "    \"timestamp\": \"2022-02-21T23:58:51+00:00\",\n",
      "    \"token_info_url\": null,\n",
      "    \"trade_url\": \"https://ftx.com/trade/BTC/USD\",\n",
      "    \"trust_score\": \"green\",\n",
      "    \"volume\": 19870.920374853566\n",
      "}\n",
      "None\n"
     ]
    }
   ],
   "source": [
    "# This will print out the dictionary for the Coin-USD \n",
    "print(coin(crypto_list[1]))"
   ]
  },
  {
   "cell_type": "code",
   "execution_count": 37,
   "id": "b35f85cc",
   "metadata": {},
   "outputs": [
    {
     "name": "stdout",
     "output_type": "stream",
     "text": [
      "                  Timestamp             Market Base      Last\n",
      "0 2022-02-21 17:59:54-06:00             Gemini  BTC  37000.62\n",
      "1 2022-02-21 18:03:14-06:00  Coinbase Exchange  BTC  37069.03\n",
      "2 2022-02-21 18:02:03-06:00             Kraken  BTC  37049.40\n",
      "3 2022-02-21 17:58:51-06:00                FTX  BTC  37047.00\n"
     ]
    }
   ],
   "source": [
    "print(dataframe)"
   ]
  },
  {
   "cell_type": "code",
   "execution_count": 49,
   "id": "e4fd284b",
   "metadata": {},
   "outputs": [
    {
     "data": {
      "text/plain": [
       "37000.62"
      ]
     },
     "execution_count": 49,
     "metadata": {},
     "output_type": "execute_result"
    }
   ],
   "source": [
    "btc_last = dataframe['Last'][0]\n",
    "btc_last"
   ]
  },
  {
   "cell_type": "markdown",
   "id": "0e115ced",
   "metadata": {},
   "source": [
    "# MC Simulation"
   ]
  },
  {
   "cell_type": "code",
   "execution_count": 38,
   "id": "98e4c9b7",
   "metadata": {},
   "outputs": [
    {
     "ename": "RuntimeError",
     "evalue": "This event loop is already running",
     "output_type": "error",
     "traceback": [
      "\u001b[0;31m---------------------------------------------------------------------------\u001b[0m",
      "\u001b[0;31mRuntimeError\u001b[0m                              Traceback (most recent call last)",
      "\u001b[0;32m/var/folders/kj/k8nhrqcx6s33mfsn333wsk800000gn/T/ipykernel_13841/3773314061.py\u001b[0m in \u001b[0;36m<module>\u001b[0;34m\u001b[0m\n\u001b[1;32m      3\u001b[0m                                            \u001b[0;34m\"Gdax\"\u001b[0m\u001b[0;34m,\u001b[0m\u001b[0;34m\u001b[0m\u001b[0;34m\u001b[0m\u001b[0m\n\u001b[1;32m      4\u001b[0m                                            \u001b[0;34m\"Kraken\"\u001b[0m\u001b[0;34m,\u001b[0m\u001b[0;34m\u001b[0m\u001b[0;34m\u001b[0m\u001b[0m\n\u001b[0;32m----> 5\u001b[0;31m                                            \"FTX Spot\"]\n\u001b[0m\u001b[1;32m      6\u001b[0m                                   ).ask()\n\u001b[1;32m      7\u001b[0m \u001b[0;32mif\u001b[0m \u001b[0mbtc_stock\u001b[0m \u001b[0;34m==\u001b[0m \u001b[0;34m\"Gemini\"\u001b[0m\u001b[0;34m:\u001b[0m\u001b[0;34m\u001b[0m\u001b[0;34m\u001b[0m\u001b[0m\n",
      "\u001b[0;32m/opt/anaconda3/envs/dev/lib/python3.7/site-packages/questionary/question.py\u001b[0m in \u001b[0;36mask\u001b[0;34m(self, patch_stdout, kbi_msg)\u001b[0m\n\u001b[1;32m     68\u001b[0m \u001b[0;34m\u001b[0m\u001b[0m\n\u001b[1;32m     69\u001b[0m         \u001b[0;32mtry\u001b[0m\u001b[0;34m:\u001b[0m\u001b[0;34m\u001b[0m\u001b[0;34m\u001b[0m\u001b[0m\n\u001b[0;32m---> 70\u001b[0;31m             \u001b[0;32mreturn\u001b[0m \u001b[0mself\u001b[0m\u001b[0;34m.\u001b[0m\u001b[0munsafe_ask\u001b[0m\u001b[0;34m(\u001b[0m\u001b[0mpatch_stdout\u001b[0m\u001b[0;34m)\u001b[0m\u001b[0;34m\u001b[0m\u001b[0;34m\u001b[0m\u001b[0m\n\u001b[0m\u001b[1;32m     71\u001b[0m         \u001b[0;32mexcept\u001b[0m \u001b[0mKeyboardInterrupt\u001b[0m\u001b[0;34m:\u001b[0m\u001b[0;34m\u001b[0m\u001b[0;34m\u001b[0m\u001b[0m\n\u001b[1;32m     72\u001b[0m             \u001b[0mprint\u001b[0m\u001b[0;34m(\u001b[0m\u001b[0;34m\"\\n{}\\n\"\u001b[0m\u001b[0;34m.\u001b[0m\u001b[0mformat\u001b[0m\u001b[0;34m(\u001b[0m\u001b[0mkbi_msg\u001b[0m\u001b[0;34m)\u001b[0m\u001b[0;34m)\u001b[0m\u001b[0;34m\u001b[0m\u001b[0;34m\u001b[0m\u001b[0m\n",
      "\u001b[0;32m/opt/anaconda3/envs/dev/lib/python3.7/site-packages/questionary/question.py\u001b[0m in \u001b[0;36munsafe_ask\u001b[0;34m(self, patch_stdout)\u001b[0m\n\u001b[1;32m     90\u001b[0m                 \u001b[0;32mreturn\u001b[0m \u001b[0mself\u001b[0m\u001b[0;34m.\u001b[0m\u001b[0mapplication\u001b[0m\u001b[0;34m.\u001b[0m\u001b[0mrun\u001b[0m\u001b[0;34m(\u001b[0m\u001b[0;34m)\u001b[0m\u001b[0;34m\u001b[0m\u001b[0;34m\u001b[0m\u001b[0m\n\u001b[1;32m     91\u001b[0m         \u001b[0;32melse\u001b[0m\u001b[0;34m:\u001b[0m\u001b[0;34m\u001b[0m\u001b[0;34m\u001b[0m\u001b[0m\n\u001b[0;32m---> 92\u001b[0;31m             \u001b[0;32mreturn\u001b[0m \u001b[0mself\u001b[0m\u001b[0;34m.\u001b[0m\u001b[0mapplication\u001b[0m\u001b[0;34m.\u001b[0m\u001b[0mrun\u001b[0m\u001b[0;34m(\u001b[0m\u001b[0;34m)\u001b[0m\u001b[0;34m\u001b[0m\u001b[0;34m\u001b[0m\u001b[0m\n\u001b[0m\u001b[1;32m     93\u001b[0m \u001b[0;34m\u001b[0m\u001b[0m\n\u001b[1;32m     94\u001b[0m     \u001b[0;32mdef\u001b[0m \u001b[0mskip_if\u001b[0m\u001b[0;34m(\u001b[0m\u001b[0mself\u001b[0m\u001b[0;34m,\u001b[0m \u001b[0mcondition\u001b[0m\u001b[0;34m:\u001b[0m \u001b[0mbool\u001b[0m\u001b[0;34m,\u001b[0m \u001b[0mdefault\u001b[0m\u001b[0;34m:\u001b[0m \u001b[0mAny\u001b[0m \u001b[0;34m=\u001b[0m \u001b[0;32mNone\u001b[0m\u001b[0;34m)\u001b[0m \u001b[0;34m->\u001b[0m \u001b[0;34m\"Question\"\u001b[0m\u001b[0;34m:\u001b[0m\u001b[0;34m\u001b[0m\u001b[0;34m\u001b[0m\u001b[0m\n",
      "\u001b[0;32m/opt/anaconda3/envs/dev/lib/python3.7/site-packages/prompt_toolkit/application/application.py\u001b[0m in \u001b[0;36mrun\u001b[0;34m(self, pre_run, set_exception_handler, in_thread)\u001b[0m\n\u001b[1;32m    890\u001b[0m \u001b[0;34m\u001b[0m\u001b[0m\n\u001b[1;32m    891\u001b[0m         return loop.run_until_complete(\n\u001b[0;32m--> 892\u001b[0;31m             \u001b[0mself\u001b[0m\u001b[0;34m.\u001b[0m\u001b[0mrun_async\u001b[0m\u001b[0;34m(\u001b[0m\u001b[0mpre_run\u001b[0m\u001b[0;34m=\u001b[0m\u001b[0mpre_run\u001b[0m\u001b[0;34m,\u001b[0m \u001b[0mset_exception_handler\u001b[0m\u001b[0;34m=\u001b[0m\u001b[0mset_exception_handler\u001b[0m\u001b[0;34m)\u001b[0m\u001b[0;34m\u001b[0m\u001b[0;34m\u001b[0m\u001b[0m\n\u001b[0m\u001b[1;32m    893\u001b[0m         )\n\u001b[1;32m    894\u001b[0m \u001b[0;34m\u001b[0m\u001b[0m\n",
      "\u001b[0;32m/opt/anaconda3/envs/dev/lib/python3.7/asyncio/base_events.py\u001b[0m in \u001b[0;36mrun_until_complete\u001b[0;34m(self, future)\u001b[0m\n\u001b[1;32m    561\u001b[0m         \"\"\"\n\u001b[1;32m    562\u001b[0m         \u001b[0mself\u001b[0m\u001b[0;34m.\u001b[0m\u001b[0m_check_closed\u001b[0m\u001b[0;34m(\u001b[0m\u001b[0;34m)\u001b[0m\u001b[0;34m\u001b[0m\u001b[0;34m\u001b[0m\u001b[0m\n\u001b[0;32m--> 563\u001b[0;31m         \u001b[0mself\u001b[0m\u001b[0;34m.\u001b[0m\u001b[0m_check_runnung\u001b[0m\u001b[0;34m(\u001b[0m\u001b[0;34m)\u001b[0m\u001b[0;34m\u001b[0m\u001b[0;34m\u001b[0m\u001b[0m\n\u001b[0m\u001b[1;32m    564\u001b[0m \u001b[0;34m\u001b[0m\u001b[0m\n\u001b[1;32m    565\u001b[0m         \u001b[0mnew_task\u001b[0m \u001b[0;34m=\u001b[0m \u001b[0;32mnot\u001b[0m \u001b[0mfutures\u001b[0m\u001b[0;34m.\u001b[0m\u001b[0misfuture\u001b[0m\u001b[0;34m(\u001b[0m\u001b[0mfuture\u001b[0m\u001b[0;34m)\u001b[0m\u001b[0;34m\u001b[0m\u001b[0;34m\u001b[0m\u001b[0m\n",
      "\u001b[0;32m/opt/anaconda3/envs/dev/lib/python3.7/asyncio/base_events.py\u001b[0m in \u001b[0;36m_check_runnung\u001b[0;34m(self)\u001b[0m\n\u001b[1;32m    521\u001b[0m     \u001b[0;32mdef\u001b[0m \u001b[0m_check_runnung\u001b[0m\u001b[0;34m(\u001b[0m\u001b[0mself\u001b[0m\u001b[0;34m)\u001b[0m\u001b[0;34m:\u001b[0m\u001b[0;34m\u001b[0m\u001b[0;34m\u001b[0m\u001b[0m\n\u001b[1;32m    522\u001b[0m         \u001b[0;32mif\u001b[0m \u001b[0mself\u001b[0m\u001b[0;34m.\u001b[0m\u001b[0mis_running\u001b[0m\u001b[0;34m(\u001b[0m\u001b[0;34m)\u001b[0m\u001b[0;34m:\u001b[0m\u001b[0;34m\u001b[0m\u001b[0;34m\u001b[0m\u001b[0m\n\u001b[0;32m--> 523\u001b[0;31m             \u001b[0;32mraise\u001b[0m \u001b[0mRuntimeError\u001b[0m\u001b[0;34m(\u001b[0m\u001b[0;34m'This event loop is already running'\u001b[0m\u001b[0;34m)\u001b[0m\u001b[0;34m\u001b[0m\u001b[0;34m\u001b[0m\u001b[0m\n\u001b[0m\u001b[1;32m    524\u001b[0m         \u001b[0;32mif\u001b[0m \u001b[0mevents\u001b[0m\u001b[0;34m.\u001b[0m\u001b[0m_get_running_loop\u001b[0m\u001b[0;34m(\u001b[0m\u001b[0;34m)\u001b[0m \u001b[0;32mis\u001b[0m \u001b[0;32mnot\u001b[0m \u001b[0;32mNone\u001b[0m\u001b[0;34m:\u001b[0m\u001b[0;34m\u001b[0m\u001b[0;34m\u001b[0m\u001b[0m\n\u001b[1;32m    525\u001b[0m             raise RuntimeError(\n",
      "\u001b[0;31mRuntimeError\u001b[0m: This event loop is already running"
     ]
    }
   ],
   "source": [
    "btc_stock = questionary.rawselect(\"From where do you want to purchase Bitcoin from?\",\n",
    "                                  choices=[\"Gemini\",\n",
    "                                           \"Gdax\",\n",
    "                                           \"Kraken\",\n",
    "                                           \"FTX Spot\"]\n",
    "                                  ).ask()\n",
    "if btc_stock == \"Gemini\":\n",
    "    print(\"How much do you want to \")\n",
    "    \n",
    "elif btc_stock == \"Gdax\":\n",
    "    print(\"You will be able to purchase Bitcoin from Gdax.\")\n",
    "    \n",
    "elif btc_stock == \"Kraken\":\n",
    "    print(\"You will be able to purchase Bitcoin from Kraken.\")\n",
    "    \n",
    "elif btc_stock == \"FTX  Spot\":\n",
    "    print(\"You will be able to purchase Bitcoin from FTX Spot.\")\n",
    "\n",
    "\n"
   ]
  },
  {
   "cell_type": "code",
   "execution_count": null,
   "id": "47061993",
   "metadata": {},
   "outputs": [],
   "source": []
  },
  {
   "cell_type": "code",
   "execution_count": null,
   "id": "8e11ea44",
   "metadata": {},
   "outputs": [],
   "source": []
  }
 ],
 "metadata": {
  "kernelspec": {
   "display_name": "Python 3 (ipykernel)",
   "language": "python",
   "name": "python3"
  },
  "language_info": {
   "codemirror_mode": {
    "name": "ipython",
    "version": 3
   },
   "file_extension": ".py",
   "mimetype": "text/x-python",
   "name": "python",
   "nbconvert_exporter": "python",
   "pygments_lexer": "ipython3",
   "version": "3.7.11"
  }
 },
 "nbformat": 4,
 "nbformat_minor": 5
}
